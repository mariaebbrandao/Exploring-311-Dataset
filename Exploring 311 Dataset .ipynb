{
 "cells": [
  {
   "cell_type": "markdown",
   "metadata": {},
   "source": [
    "# 311 Dataset from January to December 2018"
   ]
  },
  {
   "cell_type": "markdown",
   "metadata": {},
   "source": [
    "Reading the file\n"
   ]
  },
  {
   "cell_type": "code",
   "execution_count": 2,
   "metadata": {},
   "outputs": [],
   "source": [
    "dataset2018<-read.csv(\"/Users/mb/Documents/R Programming/Service Requests on 311 Dataset/311_Service_Requests_from_2010_to_Present_2018.csv\")\n",
    "\n",
    "\n"
   ]
  },
  {
   "cell_type": "markdown",
   "metadata": {},
   "source": [
    "## Getting information on dataset"
   ]
  },
  {
   "cell_type": "markdown",
   "metadata": {},
   "source": [
    "#### Use Head and Tail to see if dataset has complete information and check column names\n"
   ]
  },
  {
   "cell_type": "code",
   "execution_count": 3,
   "metadata": {},
   "outputs": [
    {
     "data": {
      "text/html": [
       "<table>\n",
       "<thead><tr><th scope=col>Unique.Key</th><th scope=col>Created.Date</th><th scope=col>Closed.Date</th><th scope=col>Agency</th><th scope=col>Agency.Name</th><th scope=col>Complaint.Type</th><th scope=col>Descriptor</th><th scope=col>Location.Type</th><th scope=col>Incident.Zip</th><th scope=col>Incident.Address</th><th scope=col>⋯</th><th scope=col>Vehicle.Type</th><th scope=col>Taxi.Company.Borough</th><th scope=col>Taxi.Pick.Up.Location</th><th scope=col>Bridge.Highway.Name</th><th scope=col>Bridge.Highway.Direction</th><th scope=col>Road.Ramp</th><th scope=col>Bridge.Highway.Segment</th><th scope=col>Latitude</th><th scope=col>Longitude</th><th scope=col>Location</th></tr></thead>\n",
       "<tbody>\n",
       "\t<tr><td>38077835                                </td><td>01/01/2018 12:00:00 AM                  </td><td>01/01/2018 12:00:00 AM                  </td><td>DOHMH                                   </td><td>Department of Health and Mental Hygiene </td><td>Rodent                                  </td><td>Rat Sighting                            </td><td>Other (Explain Below)                   </td><td>11206                                   </td><td>148 TOMPKINS AVENUE                     </td><td>⋯                                       </td><td>                                        </td><td>                                        </td><td>                                        </td><td>                                        </td><td>                                        </td><td>                                        </td><td>                                        </td><td>40.69401                                </td><td>-73.94607                               </td><td>(40.69400562370198, -73.94606674967356) </td></tr>\n",
       "\t<tr><td>38076542                                </td><td>01/01/2018 12:00:00 AM                  </td><td>01/01/2018 12:00:00 AM                  </td><td>DOHMH                                   </td><td>Department of Health and Mental Hygiene </td><td>Rodent                                  </td><td>Rat Sighting                            </td><td>3+ Family Apt. Building                 </td><td>10463                                   </td><td>3446 FORT INDEPENDENCE STREET           </td><td>⋯                                       </td><td>                                        </td><td>                                        </td><td>                                        </td><td>                                        </td><td>                                        </td><td>                                        </td><td>                                        </td><td>40.88158                                </td><td>-73.89899                               </td><td>(40.88158190996572, -73.89898943540017) </td></tr>\n",
       "\t<tr><td>38072873                                </td><td>01/01/2018 12:00:00 AM                  </td><td>01/01/2018 12:00:00 AM                  </td><td>DOHMH                                   </td><td>Department of Health and Mental Hygiene </td><td>Rodent                                  </td><td>Rat Sighting                            </td><td>3+ Family Apt. Building                 </td><td>11225                                   </td><td>410 EASTERN PARKWAY                     </td><td>⋯                                       </td><td>                                        </td><td>                                        </td><td>                                        </td><td>                                        </td><td>                                        </td><td>                                        </td><td>                                        </td><td>40.67009                                </td><td>-73.95477                               </td><td>(40.670085931603296, -73.95476653454561)</td></tr>\n",
       "\t<tr><td>38081444                                </td><td>01/01/2018 12:00:00 AM                  </td><td>01/17/2018 05:59:46 PM                  </td><td>DOHMH                                   </td><td>Department of Health and Mental Hygiene </td><td>Rodent                                  </td><td>Rat Sighting                            </td><td>3+ Family Apt. Building                 </td><td>10456                                   </td><td>309 EAST  170 STREET                    </td><td>⋯                                       </td><td>                                        </td><td>                                        </td><td>                                        </td><td>                                        </td><td>                                        </td><td>                                        </td><td>                                        </td><td>40.83741                                </td><td>-73.91034                               </td><td>(40.83740983152909, -73.91033549285669) </td></tr>\n",
       "\t<tr><td>38081433                                </td><td>01/01/2018 12:00:00 AM                  </td><td>01/18/2018 07:56:01 PM                  </td><td>DOHMH                                   </td><td>Department of Health and Mental Hygiene </td><td>Rodent                                  </td><td>Mouse Sighting                          </td><td>3+ Family Apt. Building                 </td><td>10455                                   </td><td>610 TRINITY AVENUE                      </td><td>⋯                                       </td><td>                                        </td><td>                                        </td><td>                                        </td><td>                                        </td><td>                                        </td><td>                                        </td><td>                                        </td><td>40.81456                                </td><td>-73.90960                               </td><td>(40.814559493267296, -73.90960400717243)</td></tr>\n",
       "\t<tr><td>38081286                                </td><td>01/01/2018 12:00:00 AM                  </td><td>01/10/2018 12:00:00 AM                  </td><td>DOHMH                                   </td><td>Department of Health and Mental Hygiene </td><td>Rodent                                  </td><td>Condition Attracting Rodents            </td><td>Commercial Building                     </td><td>11433                                   </td><td>111-83 157 STREET                       </td><td>⋯                                       </td><td>                                        </td><td>                                        </td><td>                                        </td><td>                                        </td><td>                                        </td><td>                                        </td><td>                                        </td><td>40.68969                                </td><td>-73.79178                               </td><td>(40.68969078524761, -73.79178464292826) </td></tr>\n",
       "</tbody>\n",
       "</table>\n"
      ],
      "text/latex": [
       "\\begin{tabular}{r|lllllllllllllllllllllllllllllllllllllllll}\n",
       " Unique.Key & Created.Date & Closed.Date & Agency & Agency.Name & Complaint.Type & Descriptor & Location.Type & Incident.Zip & Incident.Address & ⋯ & Vehicle.Type & Taxi.Company.Borough & Taxi.Pick.Up.Location & Bridge.Highway.Name & Bridge.Highway.Direction & Road.Ramp & Bridge.Highway.Segment & Latitude & Longitude & Location\\\\\n",
       "\\hline\n",
       "\t 38077835                                 & 01/01/2018 12:00:00 AM                   & 01/01/2018 12:00:00 AM                   & DOHMH                                    & Department of Health and Mental Hygiene  & Rodent                                   & Rat Sighting                             & Other (Explain Below)                    & 11206                                    & 148 TOMPKINS AVENUE                      & ⋯                                        &                                          &                                          &                                          &                                          &                                          &                                          &                                          & 40.69401                                 & -73.94607                                & (40.69400562370198, -73.94606674967356) \\\\\n",
       "\t 38076542                                 & 01/01/2018 12:00:00 AM                   & 01/01/2018 12:00:00 AM                   & DOHMH                                    & Department of Health and Mental Hygiene  & Rodent                                   & Rat Sighting                             & 3+ Family Apt. Building                  & 10463                                    & 3446 FORT INDEPENDENCE STREET            & ⋯                                        &                                          &                                          &                                          &                                          &                                          &                                          &                                          & 40.88158                                 & -73.89899                                & (40.88158190996572, -73.89898943540017) \\\\\n",
       "\t 38072873                                 & 01/01/2018 12:00:00 AM                   & 01/01/2018 12:00:00 AM                   & DOHMH                                    & Department of Health and Mental Hygiene  & Rodent                                   & Rat Sighting                             & 3+ Family Apt. Building                  & 11225                                    & 410 EASTERN PARKWAY                      & ⋯                                        &                                          &                                          &                                          &                                          &                                          &                                          &                                          & 40.67009                                 & -73.95477                                & (40.670085931603296, -73.95476653454561)\\\\\n",
       "\t 38081444                                 & 01/01/2018 12:00:00 AM                   & 01/17/2018 05:59:46 PM                   & DOHMH                                    & Department of Health and Mental Hygiene  & Rodent                                   & Rat Sighting                             & 3+ Family Apt. Building                  & 10456                                    & 309 EAST  170 STREET                     & ⋯                                        &                                          &                                          &                                          &                                          &                                          &                                          &                                          & 40.83741                                 & -73.91034                                & (40.83740983152909, -73.91033549285669) \\\\\n",
       "\t 38081433                                 & 01/01/2018 12:00:00 AM                   & 01/18/2018 07:56:01 PM                   & DOHMH                                    & Department of Health and Mental Hygiene  & Rodent                                   & Mouse Sighting                           & 3+ Family Apt. Building                  & 10455                                    & 610 TRINITY AVENUE                       & ⋯                                        &                                          &                                          &                                          &                                          &                                          &                                          &                                          & 40.81456                                 & -73.90960                                & (40.814559493267296, -73.90960400717243)\\\\\n",
       "\t 38081286                                 & 01/01/2018 12:00:00 AM                   & 01/10/2018 12:00:00 AM                   & DOHMH                                    & Department of Health and Mental Hygiene  & Rodent                                   & Condition Attracting Rodents             & Commercial Building                      & 11433                                    & 111-83 157 STREET                        & ⋯                                        &                                          &                                          &                                          &                                          &                                          &                                          &                                          & 40.68969                                 & -73.79178                                & (40.68969078524761, -73.79178464292826) \\\\\n",
       "\\end{tabular}\n"
      ],
      "text/markdown": [
       "\n",
       "| Unique.Key | Created.Date | Closed.Date | Agency | Agency.Name | Complaint.Type | Descriptor | Location.Type | Incident.Zip | Incident.Address | ⋯ | Vehicle.Type | Taxi.Company.Borough | Taxi.Pick.Up.Location | Bridge.Highway.Name | Bridge.Highway.Direction | Road.Ramp | Bridge.Highway.Segment | Latitude | Longitude | Location |\n",
       "|---|---|---|---|---|---|---|---|---|---|---|---|---|---|---|---|---|---|---|---|---|\n",
       "| 38077835                                 | 01/01/2018 12:00:00 AM                   | 01/01/2018 12:00:00 AM                   | DOHMH                                    | Department of Health and Mental Hygiene  | Rodent                                   | Rat Sighting                             | Other (Explain Below)                    | 11206                                    | 148 TOMPKINS AVENUE                      | ⋯                                        |                                          |                                          |                                          |                                          |                                          |                                          |                                          | 40.69401                                 | -73.94607                                | (40.69400562370198, -73.94606674967356)  |\n",
       "| 38076542                                 | 01/01/2018 12:00:00 AM                   | 01/01/2018 12:00:00 AM                   | DOHMH                                    | Department of Health and Mental Hygiene  | Rodent                                   | Rat Sighting                             | 3+ Family Apt. Building                  | 10463                                    | 3446 FORT INDEPENDENCE STREET            | ⋯                                        |                                          |                                          |                                          |                                          |                                          |                                          |                                          | 40.88158                                 | -73.89899                                | (40.88158190996572, -73.89898943540017)  |\n",
       "| 38072873                                 | 01/01/2018 12:00:00 AM                   | 01/01/2018 12:00:00 AM                   | DOHMH                                    | Department of Health and Mental Hygiene  | Rodent                                   | Rat Sighting                             | 3+ Family Apt. Building                  | 11225                                    | 410 EASTERN PARKWAY                      | ⋯                                        |                                          |                                          |                                          |                                          |                                          |                                          |                                          | 40.67009                                 | -73.95477                                | (40.670085931603296, -73.95476653454561) |\n",
       "| 38081444                                 | 01/01/2018 12:00:00 AM                   | 01/17/2018 05:59:46 PM                   | DOHMH                                    | Department of Health and Mental Hygiene  | Rodent                                   | Rat Sighting                             | 3+ Family Apt. Building                  | 10456                                    | 309 EAST  170 STREET                     | ⋯                                        |                                          |                                          |                                          |                                          |                                          |                                          |                                          | 40.83741                                 | -73.91034                                | (40.83740983152909, -73.91033549285669)  |\n",
       "| 38081433                                 | 01/01/2018 12:00:00 AM                   | 01/18/2018 07:56:01 PM                   | DOHMH                                    | Department of Health and Mental Hygiene  | Rodent                                   | Mouse Sighting                           | 3+ Family Apt. Building                  | 10455                                    | 610 TRINITY AVENUE                       | ⋯                                        |                                          |                                          |                                          |                                          |                                          |                                          |                                          | 40.81456                                 | -73.90960                                | (40.814559493267296, -73.90960400717243) |\n",
       "| 38081286                                 | 01/01/2018 12:00:00 AM                   | 01/10/2018 12:00:00 AM                   | DOHMH                                    | Department of Health and Mental Hygiene  | Rodent                                   | Condition Attracting Rodents             | Commercial Building                      | 11433                                    | 111-83 157 STREET                        | ⋯                                        |                                          |                                          |                                          |                                          |                                          |                                          |                                          | 40.68969                                 | -73.79178                                | (40.68969078524761, -73.79178464292826)  |\n",
       "\n"
      ],
      "text/plain": [
       "  Unique.Key Created.Date           Closed.Date            Agency\n",
       "1 38077835   01/01/2018 12:00:00 AM 01/01/2018 12:00:00 AM DOHMH \n",
       "2 38076542   01/01/2018 12:00:00 AM 01/01/2018 12:00:00 AM DOHMH \n",
       "3 38072873   01/01/2018 12:00:00 AM 01/01/2018 12:00:00 AM DOHMH \n",
       "4 38081444   01/01/2018 12:00:00 AM 01/17/2018 05:59:46 PM DOHMH \n",
       "5 38081433   01/01/2018 12:00:00 AM 01/18/2018 07:56:01 PM DOHMH \n",
       "6 38081286   01/01/2018 12:00:00 AM 01/10/2018 12:00:00 AM DOHMH \n",
       "  Agency.Name                             Complaint.Type\n",
       "1 Department of Health and Mental Hygiene Rodent        \n",
       "2 Department of Health and Mental Hygiene Rodent        \n",
       "3 Department of Health and Mental Hygiene Rodent        \n",
       "4 Department of Health and Mental Hygiene Rodent        \n",
       "5 Department of Health and Mental Hygiene Rodent        \n",
       "6 Department of Health and Mental Hygiene Rodent        \n",
       "  Descriptor                   Location.Type           Incident.Zip\n",
       "1 Rat Sighting                 Other (Explain Below)   11206       \n",
       "2 Rat Sighting                 3+ Family Apt. Building 10463       \n",
       "3 Rat Sighting                 3+ Family Apt. Building 11225       \n",
       "4 Rat Sighting                 3+ Family Apt. Building 10456       \n",
       "5 Mouse Sighting               3+ Family Apt. Building 10455       \n",
       "6 Condition Attracting Rodents Commercial Building     11433       \n",
       "  Incident.Address              ⋯ Vehicle.Type Taxi.Company.Borough\n",
       "1 148 TOMPKINS AVENUE           ⋯                                  \n",
       "2 3446 FORT INDEPENDENCE STREET ⋯                                  \n",
       "3 410 EASTERN PARKWAY           ⋯                                  \n",
       "4 309 EAST  170 STREET          ⋯                                  \n",
       "5 610 TRINITY AVENUE            ⋯                                  \n",
       "6 111-83 157 STREET             ⋯                                  \n",
       "  Taxi.Pick.Up.Location Bridge.Highway.Name Bridge.Highway.Direction Road.Ramp\n",
       "1                                                                             \n",
       "2                                                                             \n",
       "3                                                                             \n",
       "4                                                                             \n",
       "5                                                                             \n",
       "6                                                                             \n",
       "  Bridge.Highway.Segment Latitude Longitude\n",
       "1                        40.69401 -73.94607\n",
       "2                        40.88158 -73.89899\n",
       "3                        40.67009 -73.95477\n",
       "4                        40.83741 -73.91034\n",
       "5                        40.81456 -73.90960\n",
       "6                        40.68969 -73.79178\n",
       "  Location                                \n",
       "1 (40.69400562370198, -73.94606674967356) \n",
       "2 (40.88158190996572, -73.89898943540017) \n",
       "3 (40.670085931603296, -73.95476653454561)\n",
       "4 (40.83740983152909, -73.91033549285669) \n",
       "5 (40.814559493267296, -73.90960400717243)\n",
       "6 (40.68969078524761, -73.79178464292826) "
      ]
     },
     "metadata": {},
     "output_type": "display_data"
    }
   ],
   "source": [
    "head(dataset2018)"
   ]
  },
  {
   "cell_type": "code",
   "execution_count": 4,
   "metadata": {},
   "outputs": [
    {
     "data": {
      "text/html": [
       "<table>\n",
       "<thead><tr><th></th><th scope=col>Unique.Key</th><th scope=col>Created.Date</th><th scope=col>Closed.Date</th><th scope=col>Agency</th><th scope=col>Agency.Name</th><th scope=col>Complaint.Type</th><th scope=col>Descriptor</th><th scope=col>Location.Type</th><th scope=col>Incident.Zip</th><th scope=col>Incident.Address</th><th scope=col>⋯</th><th scope=col>Vehicle.Type</th><th scope=col>Taxi.Company.Borough</th><th scope=col>Taxi.Pick.Up.Location</th><th scope=col>Bridge.Highway.Name</th><th scope=col>Bridge.Highway.Direction</th><th scope=col>Road.Ramp</th><th scope=col>Bridge.Highway.Segment</th><th scope=col>Latitude</th><th scope=col>Longitude</th><th scope=col>Location</th></tr></thead>\n",
       "<tbody>\n",
       "\t<tr><th scope=row>2741710</th><td>41308433                                </td><td>12/31/2018 12:00:00 AM                  </td><td>12/31/2018 12:00:01 AM                  </td><td>DOHMH                                   </td><td>Department of Health and Mental Hygiene </td><td>Food Poisoning                          </td><td>1 or 2                                  </td><td>Restaurant/Bar/Deli/Bakery              </td><td>10022                                   </td><td>330 EAST   53 STREET                    </td><td>⋯                                       </td><td>                                        </td><td>                                        </td><td>                                        </td><td>                                        </td><td>                                        </td><td>                                        </td><td>                                        </td><td>40.75639                                </td><td>-73.96629                               </td><td>(40.756390678839836, -73.9662944404375) </td></tr>\n",
       "\t<tr><th scope=row>2741711</th><td>41308342                                </td><td>12/31/2018 12:00:00 AM                  </td><td>01/02/2019 12:00:01 AM                  </td><td>DOHMH                                   </td><td>Department of Health and Mental Hygiene </td><td>Food Poisoning                          </td><td>1 or 2                                  </td><td>Other (Explain Below)                   </td><td>11214                                   </td><td>2439 86 STREET                          </td><td>⋯                                       </td><td>                                        </td><td>                                        </td><td>                                        </td><td>                                        </td><td>                                        </td><td>                                        </td><td>                                        </td><td>40.59864                                </td><td>-73.98837                               </td><td>(40.59863643813649, -73.98836524323761) </td></tr>\n",
       "\t<tr><th scope=row>2741712</th><td>41307392                                </td><td>12/31/2018 12:00:00 AM                  </td><td>01/02/2019 12:00:01 AM                  </td><td>DOHMH                                   </td><td>Department of Health and Mental Hygiene </td><td>Food Poisoning                          </td><td>1 or 2                                  </td><td>Restaurant/Bar/Deli/Bakery              </td><td>10312                                   </td><td>20 JEFFERSON BOULEVARD                  </td><td>⋯                                       </td><td>                                        </td><td>                                        </td><td>                                        </td><td>                                        </td><td>                                        </td><td>                                        </td><td>                                        </td><td>40.54105                                </td><td>-74.17793                               </td><td>(40.54105313722418, -74.17793298899846) </td></tr>\n",
       "\t<tr><th scope=row>2741713</th><td>41306280                                </td><td>12/31/2018 12:00:00 AM                  </td><td>12/31/2018 12:00:01 AM                  </td><td>DOHMH                                   </td><td>Department of Health and Mental Hygiene </td><td>Food Poisoning                          </td><td>1 or 2                                  </td><td>Restaurant/Bar/Deli/Bakery              </td><td>11354                                   </td><td>136-76 39 AVENUE                        </td><td>⋯                                       </td><td>                                        </td><td>                                        </td><td>                                        </td><td>                                        </td><td>                                        </td><td>                                        </td><td>                                        </td><td>40.76083                                </td><td>-73.82788                               </td><td>(40.760826057237864, -73.82788361541547)</td></tr>\n",
       "\t<tr><th scope=row>2741714</th><td>41313706                                </td><td>12/31/2018 12:00:00 AM                  </td><td>12/31/2018 12:00:01 AM                  </td><td>DOHMH                                   </td><td>Department of Health and Mental Hygiene </td><td>Food Poisoning                          </td><td>3 or More                               </td><td>Restaurant/Bar/Deli/Bakery              </td><td>11223                                   </td><td>1999 MCDONALD AVENUE                    </td><td>⋯                                       </td><td>                                        </td><td>                                        </td><td>                                        </td><td>                                        </td><td>                                        </td><td>                                        </td><td>                                        </td><td>40.60386                                </td><td>-73.97223                               </td><td>(40.60385702193792, -73.9722342958284)  </td></tr>\n",
       "\t<tr><th scope=row>2741715</th><td>41303710                                </td><td>12/31/2018 12:00:00 AM                  </td><td>                                        </td><td>DOHMH                                   </td><td>Department of Health and Mental Hygiene </td><td>Rodent                                  </td><td>Rat Sighting                            </td><td>Other (Explain Below)                   </td><td>10002                                   </td><td>38 MONROE STREET                        </td><td>⋯                                       </td><td>                                        </td><td>                                        </td><td>                                        </td><td>                                        </td><td>                                        </td><td>                                        </td><td>                                        </td><td>40.71093                                </td><td>-73.99543                               </td><td>(40.710928670138756, -73.99542626908676)</td></tr>\n",
       "</tbody>\n",
       "</table>\n"
      ],
      "text/latex": [
       "\\begin{tabular}{r|lllllllllllllllllllllllllllllllllllllllll}\n",
       "  & Unique.Key & Created.Date & Closed.Date & Agency & Agency.Name & Complaint.Type & Descriptor & Location.Type & Incident.Zip & Incident.Address & ⋯ & Vehicle.Type & Taxi.Company.Borough & Taxi.Pick.Up.Location & Bridge.Highway.Name & Bridge.Highway.Direction & Road.Ramp & Bridge.Highway.Segment & Latitude & Longitude & Location\\\\\n",
       "\\hline\n",
       "\t2741710 & 41308433                                 & 12/31/2018 12:00:00 AM                   & 12/31/2018 12:00:01 AM                   & DOHMH                                    & Department of Health and Mental Hygiene  & Food Poisoning                           & 1 or 2                                   & Restaurant/Bar/Deli/Bakery               & 10022                                    & 330 EAST   53 STREET                     & ⋯                                        &                                          &                                          &                                          &                                          &                                          &                                          &                                          & 40.75639                                 & -73.96629                                & (40.756390678839836, -73.9662944404375) \\\\\n",
       "\t2741711 & 41308342                                 & 12/31/2018 12:00:00 AM                   & 01/02/2019 12:00:01 AM                   & DOHMH                                    & Department of Health and Mental Hygiene  & Food Poisoning                           & 1 or 2                                   & Other (Explain Below)                    & 11214                                    & 2439 86 STREET                           & ⋯                                        &                                          &                                          &                                          &                                          &                                          &                                          &                                          & 40.59864                                 & -73.98837                                & (40.59863643813649, -73.98836524323761) \\\\\n",
       "\t2741712 & 41307392                                 & 12/31/2018 12:00:00 AM                   & 01/02/2019 12:00:01 AM                   & DOHMH                                    & Department of Health and Mental Hygiene  & Food Poisoning                           & 1 or 2                                   & Restaurant/Bar/Deli/Bakery               & 10312                                    & 20 JEFFERSON BOULEVARD                   & ⋯                                        &                                          &                                          &                                          &                                          &                                          &                                          &                                          & 40.54105                                 & -74.17793                                & (40.54105313722418, -74.17793298899846) \\\\\n",
       "\t2741713 & 41306280                                 & 12/31/2018 12:00:00 AM                   & 12/31/2018 12:00:01 AM                   & DOHMH                                    & Department of Health and Mental Hygiene  & Food Poisoning                           & 1 or 2                                   & Restaurant/Bar/Deli/Bakery               & 11354                                    & 136-76 39 AVENUE                         & ⋯                                        &                                          &                                          &                                          &                                          &                                          &                                          &                                          & 40.76083                                 & -73.82788                                & (40.760826057237864, -73.82788361541547)\\\\\n",
       "\t2741714 & 41313706                                 & 12/31/2018 12:00:00 AM                   & 12/31/2018 12:00:01 AM                   & DOHMH                                    & Department of Health and Mental Hygiene  & Food Poisoning                           & 3 or More                                & Restaurant/Bar/Deli/Bakery               & 11223                                    & 1999 MCDONALD AVENUE                     & ⋯                                        &                                          &                                          &                                          &                                          &                                          &                                          &                                          & 40.60386                                 & -73.97223                                & (40.60385702193792, -73.9722342958284)  \\\\\n",
       "\t2741715 & 41303710                                 & 12/31/2018 12:00:00 AM                   &                                          & DOHMH                                    & Department of Health and Mental Hygiene  & Rodent                                   & Rat Sighting                             & Other (Explain Below)                    & 10002                                    & 38 MONROE STREET                         & ⋯                                        &                                          &                                          &                                          &                                          &                                          &                                          &                                          & 40.71093                                 & -73.99543                                & (40.710928670138756, -73.99542626908676)\\\\\n",
       "\\end{tabular}\n"
      ],
      "text/markdown": [
       "\n",
       "| <!--/--> | Unique.Key | Created.Date | Closed.Date | Agency | Agency.Name | Complaint.Type | Descriptor | Location.Type | Incident.Zip | Incident.Address | ⋯ | Vehicle.Type | Taxi.Company.Borough | Taxi.Pick.Up.Location | Bridge.Highway.Name | Bridge.Highway.Direction | Road.Ramp | Bridge.Highway.Segment | Latitude | Longitude | Location |\n",
       "|---|---|---|---|---|---|---|---|---|---|---|---|---|---|---|---|---|---|---|---|---|---|\n",
       "| 2741710 | 41308433                                 | 12/31/2018 12:00:00 AM                   | 12/31/2018 12:00:01 AM                   | DOHMH                                    | Department of Health and Mental Hygiene  | Food Poisoning                           | 1 or 2                                   | Restaurant/Bar/Deli/Bakery               | 10022                                    | 330 EAST   53 STREET                     | ⋯                                        |                                          |                                          |                                          |                                          |                                          |                                          |                                          | 40.75639                                 | -73.96629                                | (40.756390678839836, -73.9662944404375)  |\n",
       "| 2741711 | 41308342                                 | 12/31/2018 12:00:00 AM                   | 01/02/2019 12:00:01 AM                   | DOHMH                                    | Department of Health and Mental Hygiene  | Food Poisoning                           | 1 or 2                                   | Other (Explain Below)                    | 11214                                    | 2439 86 STREET                           | ⋯                                        |                                          |                                          |                                          |                                          |                                          |                                          |                                          | 40.59864                                 | -73.98837                                | (40.59863643813649, -73.98836524323761)  |\n",
       "| 2741712 | 41307392                                 | 12/31/2018 12:00:00 AM                   | 01/02/2019 12:00:01 AM                   | DOHMH                                    | Department of Health and Mental Hygiene  | Food Poisoning                           | 1 or 2                                   | Restaurant/Bar/Deli/Bakery               | 10312                                    | 20 JEFFERSON BOULEVARD                   | ⋯                                        |                                          |                                          |                                          |                                          |                                          |                                          |                                          | 40.54105                                 | -74.17793                                | (40.54105313722418, -74.17793298899846)  |\n",
       "| 2741713 | 41306280                                 | 12/31/2018 12:00:00 AM                   | 12/31/2018 12:00:01 AM                   | DOHMH                                    | Department of Health and Mental Hygiene  | Food Poisoning                           | 1 or 2                                   | Restaurant/Bar/Deli/Bakery               | 11354                                    | 136-76 39 AVENUE                         | ⋯                                        |                                          |                                          |                                          |                                          |                                          |                                          |                                          | 40.76083                                 | -73.82788                                | (40.760826057237864, -73.82788361541547) |\n",
       "| 2741714 | 41313706                                 | 12/31/2018 12:00:00 AM                   | 12/31/2018 12:00:01 AM                   | DOHMH                                    | Department of Health and Mental Hygiene  | Food Poisoning                           | 3 or More                                | Restaurant/Bar/Deli/Bakery               | 11223                                    | 1999 MCDONALD AVENUE                     | ⋯                                        |                                          |                                          |                                          |                                          |                                          |                                          |                                          | 40.60386                                 | -73.97223                                | (40.60385702193792, -73.9722342958284)   |\n",
       "| 2741715 | 41303710                                 | 12/31/2018 12:00:00 AM                   |                                          | DOHMH                                    | Department of Health and Mental Hygiene  | Rodent                                   | Rat Sighting                             | Other (Explain Below)                    | 10002                                    | 38 MONROE STREET                         | ⋯                                        |                                          |                                          |                                          |                                          |                                          |                                          |                                          | 40.71093                                 | -73.99543                                | (40.710928670138756, -73.99542626908676) |\n",
       "\n"
      ],
      "text/plain": [
       "        Unique.Key Created.Date           Closed.Date            Agency\n",
       "2741710 41308433   12/31/2018 12:00:00 AM 12/31/2018 12:00:01 AM DOHMH \n",
       "2741711 41308342   12/31/2018 12:00:00 AM 01/02/2019 12:00:01 AM DOHMH \n",
       "2741712 41307392   12/31/2018 12:00:00 AM 01/02/2019 12:00:01 AM DOHMH \n",
       "2741713 41306280   12/31/2018 12:00:00 AM 12/31/2018 12:00:01 AM DOHMH \n",
       "2741714 41313706   12/31/2018 12:00:00 AM 12/31/2018 12:00:01 AM DOHMH \n",
       "2741715 41303710   12/31/2018 12:00:00 AM                        DOHMH \n",
       "        Agency.Name                             Complaint.Type Descriptor  \n",
       "2741710 Department of Health and Mental Hygiene Food Poisoning 1 or 2      \n",
       "2741711 Department of Health and Mental Hygiene Food Poisoning 1 or 2      \n",
       "2741712 Department of Health and Mental Hygiene Food Poisoning 1 or 2      \n",
       "2741713 Department of Health and Mental Hygiene Food Poisoning 1 or 2      \n",
       "2741714 Department of Health and Mental Hygiene Food Poisoning 3 or More   \n",
       "2741715 Department of Health and Mental Hygiene Rodent         Rat Sighting\n",
       "        Location.Type              Incident.Zip Incident.Address       ⋯\n",
       "2741710 Restaurant/Bar/Deli/Bakery 10022        330 EAST   53 STREET   ⋯\n",
       "2741711 Other (Explain Below)      11214        2439 86 STREET         ⋯\n",
       "2741712 Restaurant/Bar/Deli/Bakery 10312        20 JEFFERSON BOULEVARD ⋯\n",
       "2741713 Restaurant/Bar/Deli/Bakery 11354        136-76 39 AVENUE       ⋯\n",
       "2741714 Restaurant/Bar/Deli/Bakery 11223        1999 MCDONALD AVENUE   ⋯\n",
       "2741715 Other (Explain Below)      10002        38 MONROE STREET       ⋯\n",
       "        Vehicle.Type Taxi.Company.Borough Taxi.Pick.Up.Location\n",
       "2741710                                                        \n",
       "2741711                                                        \n",
       "2741712                                                        \n",
       "2741713                                                        \n",
       "2741714                                                        \n",
       "2741715                                                        \n",
       "        Bridge.Highway.Name Bridge.Highway.Direction Road.Ramp\n",
       "2741710                                                       \n",
       "2741711                                                       \n",
       "2741712                                                       \n",
       "2741713                                                       \n",
       "2741714                                                       \n",
       "2741715                                                       \n",
       "        Bridge.Highway.Segment Latitude Longitude\n",
       "2741710                        40.75639 -73.96629\n",
       "2741711                        40.59864 -73.98837\n",
       "2741712                        40.54105 -74.17793\n",
       "2741713                        40.76083 -73.82788\n",
       "2741714                        40.60386 -73.97223\n",
       "2741715                        40.71093 -73.99543\n",
       "        Location                                \n",
       "2741710 (40.756390678839836, -73.9662944404375) \n",
       "2741711 (40.59863643813649, -73.98836524323761) \n",
       "2741712 (40.54105313722418, -74.17793298899846) \n",
       "2741713 (40.760826057237864, -73.82788361541547)\n",
       "2741714 (40.60385702193792, -73.9722342958284)  \n",
       "2741715 (40.710928670138756, -73.99542626908676)"
      ]
     },
     "metadata": {},
     "output_type": "display_data"
    }
   ],
   "source": [
    "tail(dataset2018)"
   ]
  },
  {
   "cell_type": "markdown",
   "metadata": {},
   "source": [
    "#### Use Names to look at column names"
   ]
  },
  {
   "cell_type": "code",
   "execution_count": 5,
   "metadata": {},
   "outputs": [
    {
     "data": {
      "text/html": [
       "<ol class=list-inline>\n",
       "\t<li>'Unique.Key'</li>\n",
       "\t<li>'Created.Date'</li>\n",
       "\t<li>'Closed.Date'</li>\n",
       "\t<li>'Agency'</li>\n",
       "\t<li>'Agency.Name'</li>\n",
       "\t<li>'Complaint.Type'</li>\n",
       "\t<li>'Descriptor'</li>\n",
       "\t<li>'Location.Type'</li>\n",
       "\t<li>'Incident.Zip'</li>\n",
       "\t<li>'Incident.Address'</li>\n",
       "\t<li>'Street.Name'</li>\n",
       "\t<li>'Cross.Street.1'</li>\n",
       "\t<li>'Cross.Street.2'</li>\n",
       "\t<li>'Intersection.Street.1'</li>\n",
       "\t<li>'Intersection.Street.2'</li>\n",
       "\t<li>'Address.Type'</li>\n",
       "\t<li>'City'</li>\n",
       "\t<li>'Landmark'</li>\n",
       "\t<li>'Facility.Type'</li>\n",
       "\t<li>'Status'</li>\n",
       "\t<li>'Due.Date'</li>\n",
       "\t<li>'Resolution.Description'</li>\n",
       "\t<li>'Resolution.Action.Updated.Date'</li>\n",
       "\t<li>'Community.Board'</li>\n",
       "\t<li>'BBL'</li>\n",
       "\t<li>'Borough'</li>\n",
       "\t<li>'X.Coordinate..State.Plane.'</li>\n",
       "\t<li>'Y.Coordinate..State.Plane.'</li>\n",
       "\t<li>'Open.Data.Channel.Type'</li>\n",
       "\t<li>'Park.Facility.Name'</li>\n",
       "\t<li>'Park.Borough'</li>\n",
       "\t<li>'Vehicle.Type'</li>\n",
       "\t<li>'Taxi.Company.Borough'</li>\n",
       "\t<li>'Taxi.Pick.Up.Location'</li>\n",
       "\t<li>'Bridge.Highway.Name'</li>\n",
       "\t<li>'Bridge.Highway.Direction'</li>\n",
       "\t<li>'Road.Ramp'</li>\n",
       "\t<li>'Bridge.Highway.Segment'</li>\n",
       "\t<li>'Latitude'</li>\n",
       "\t<li>'Longitude'</li>\n",
       "\t<li>'Location'</li>\n",
       "</ol>\n"
      ],
      "text/latex": [
       "\\begin{enumerate*}\n",
       "\\item 'Unique.Key'\n",
       "\\item 'Created.Date'\n",
       "\\item 'Closed.Date'\n",
       "\\item 'Agency'\n",
       "\\item 'Agency.Name'\n",
       "\\item 'Complaint.Type'\n",
       "\\item 'Descriptor'\n",
       "\\item 'Location.Type'\n",
       "\\item 'Incident.Zip'\n",
       "\\item 'Incident.Address'\n",
       "\\item 'Street.Name'\n",
       "\\item 'Cross.Street.1'\n",
       "\\item 'Cross.Street.2'\n",
       "\\item 'Intersection.Street.1'\n",
       "\\item 'Intersection.Street.2'\n",
       "\\item 'Address.Type'\n",
       "\\item 'City'\n",
       "\\item 'Landmark'\n",
       "\\item 'Facility.Type'\n",
       "\\item 'Status'\n",
       "\\item 'Due.Date'\n",
       "\\item 'Resolution.Description'\n",
       "\\item 'Resolution.Action.Updated.Date'\n",
       "\\item 'Community.Board'\n",
       "\\item 'BBL'\n",
       "\\item 'Borough'\n",
       "\\item 'X.Coordinate..State.Plane.'\n",
       "\\item 'Y.Coordinate..State.Plane.'\n",
       "\\item 'Open.Data.Channel.Type'\n",
       "\\item 'Park.Facility.Name'\n",
       "\\item 'Park.Borough'\n",
       "\\item 'Vehicle.Type'\n",
       "\\item 'Taxi.Company.Borough'\n",
       "\\item 'Taxi.Pick.Up.Location'\n",
       "\\item 'Bridge.Highway.Name'\n",
       "\\item 'Bridge.Highway.Direction'\n",
       "\\item 'Road.Ramp'\n",
       "\\item 'Bridge.Highway.Segment'\n",
       "\\item 'Latitude'\n",
       "\\item 'Longitude'\n",
       "\\item 'Location'\n",
       "\\end{enumerate*}\n"
      ],
      "text/markdown": [
       "1. 'Unique.Key'\n",
       "2. 'Created.Date'\n",
       "3. 'Closed.Date'\n",
       "4. 'Agency'\n",
       "5. 'Agency.Name'\n",
       "6. 'Complaint.Type'\n",
       "7. 'Descriptor'\n",
       "8. 'Location.Type'\n",
       "9. 'Incident.Zip'\n",
       "10. 'Incident.Address'\n",
       "11. 'Street.Name'\n",
       "12. 'Cross.Street.1'\n",
       "13. 'Cross.Street.2'\n",
       "14. 'Intersection.Street.1'\n",
       "15. 'Intersection.Street.2'\n",
       "16. 'Address.Type'\n",
       "17. 'City'\n",
       "18. 'Landmark'\n",
       "19. 'Facility.Type'\n",
       "20. 'Status'\n",
       "21. 'Due.Date'\n",
       "22. 'Resolution.Description'\n",
       "23. 'Resolution.Action.Updated.Date'\n",
       "24. 'Community.Board'\n",
       "25. 'BBL'\n",
       "26. 'Borough'\n",
       "27. 'X.Coordinate..State.Plane.'\n",
       "28. 'Y.Coordinate..State.Plane.'\n",
       "29. 'Open.Data.Channel.Type'\n",
       "30. 'Park.Facility.Name'\n",
       "31. 'Park.Borough'\n",
       "32. 'Vehicle.Type'\n",
       "33. 'Taxi.Company.Borough'\n",
       "34. 'Taxi.Pick.Up.Location'\n",
       "35. 'Bridge.Highway.Name'\n",
       "36. 'Bridge.Highway.Direction'\n",
       "37. 'Road.Ramp'\n",
       "38. 'Bridge.Highway.Segment'\n",
       "39. 'Latitude'\n",
       "40. 'Longitude'\n",
       "41. 'Location'\n",
       "\n",
       "\n"
      ],
      "text/plain": [
       " [1] \"Unique.Key\"                     \"Created.Date\"                  \n",
       " [3] \"Closed.Date\"                    \"Agency\"                        \n",
       " [5] \"Agency.Name\"                    \"Complaint.Type\"                \n",
       " [7] \"Descriptor\"                     \"Location.Type\"                 \n",
       " [9] \"Incident.Zip\"                   \"Incident.Address\"              \n",
       "[11] \"Street.Name\"                    \"Cross.Street.1\"                \n",
       "[13] \"Cross.Street.2\"                 \"Intersection.Street.1\"         \n",
       "[15] \"Intersection.Street.2\"          \"Address.Type\"                  \n",
       "[17] \"City\"                           \"Landmark\"                      \n",
       "[19] \"Facility.Type\"                  \"Status\"                        \n",
       "[21] \"Due.Date\"                       \"Resolution.Description\"        \n",
       "[23] \"Resolution.Action.Updated.Date\" \"Community.Board\"               \n",
       "[25] \"BBL\"                            \"Borough\"                       \n",
       "[27] \"X.Coordinate..State.Plane.\"     \"Y.Coordinate..State.Plane.\"    \n",
       "[29] \"Open.Data.Channel.Type\"         \"Park.Facility.Name\"            \n",
       "[31] \"Park.Borough\"                   \"Vehicle.Type\"                  \n",
       "[33] \"Taxi.Company.Borough\"           \"Taxi.Pick.Up.Location\"         \n",
       "[35] \"Bridge.Highway.Name\"            \"Bridge.Highway.Direction\"      \n",
       "[37] \"Road.Ramp\"                      \"Bridge.Highway.Segment\"        \n",
       "[39] \"Latitude\"                       \"Longitude\"                     \n",
       "[41] \"Location\"                      "
      ]
     },
     "metadata": {},
     "output_type": "display_data"
    }
   ],
   "source": [
    "names(dataset2018)"
   ]
  },
  {
   "cell_type": "markdown",
   "metadata": {},
   "source": [
    "#### Use Dim to get dimension of dataset. Number of rows are first, number of columns second "
   ]
  },
  {
   "cell_type": "code",
   "execution_count": 6,
   "metadata": {},
   "outputs": [
    {
     "data": {
      "text/html": [
       "<ol class=list-inline>\n",
       "\t<li>2741715</li>\n",
       "\t<li>41</li>\n",
       "</ol>\n"
      ],
      "text/latex": [
       "\\begin{enumerate*}\n",
       "\\item 2741715\n",
       "\\item 41\n",
       "\\end{enumerate*}\n"
      ],
      "text/markdown": [
       "1. 2741715\n",
       "2. 41\n",
       "\n",
       "\n"
      ],
      "text/plain": [
       "[1] 2741715      41"
      ]
     },
     "metadata": {},
     "output_type": "display_data"
    }
   ],
   "source": [
    "dim(dataset2018)"
   ]
  },
  {
   "cell_type": "markdown",
   "metadata": {},
   "source": [
    "#### Install dplyr for easier commands and data analysis"
   ]
  },
  {
   "cell_type": "code",
   "execution_count": 7,
   "metadata": {},
   "outputs": [
    {
     "name": "stdout",
     "output_type": "stream",
     "text": [
      "\n",
      "The downloaded binary packages are in\n",
      "\t/var/folders/6y/0_s8n7_x4r74c_v0fdskpy140000gn/T//RtmpiAlams/downloaded_packages\n"
     ]
    }
   ],
   "source": [
    "install.packages(\"dplyr\")"
   ]
  },
  {
   "cell_type": "code",
   "execution_count": 8,
   "metadata": {},
   "outputs": [
    {
     "name": "stderr",
     "output_type": "stream",
     "text": [
      "\n",
      "Attaching package: ‘dplyr’\n",
      "\n",
      "The following objects are masked from ‘package:stats’:\n",
      "\n",
      "    filter, lag\n",
      "\n",
      "The following objects are masked from ‘package:base’:\n",
      "\n",
      "    intersect, setdiff, setequal, union\n",
      "\n"
     ]
    }
   ],
   "source": [
    "library(dplyr)"
   ]
  },
  {
   "cell_type": "markdown",
   "metadata": {},
   "source": [
    "#### Unique values to list distinct values in a vector in R"
   ]
  },
  {
   "cell_type": "code",
   "execution_count": 13,
   "metadata": {},
   "outputs": [
    {
     "ename": "ERROR",
     "evalue": "Error in unique(Complaint.Type, incomparables = FALSE): object 'Complaint.Type' not found\n",
     "output_type": "error",
     "traceback": [
      "Error in unique(Complaint.Type, incomparables = FALSE): object 'Complaint.Type' not found\nTraceback:\n",
      "1. unique(Complaint.Type, incomparables = FALSE)"
     ]
    }
   ],
   "source": [
    "unique(Complaint.Type, incomparables = FALSE)"
   ]
  },
  {
   "cell_type": "markdown",
   "metadata": {},
   "source": [
    "#### Create subset to Complaint.Type only"
   ]
  },
  {
   "cell_type": "code",
   "execution_count": 14,
   "metadata": {},
   "outputs": [],
   "source": [
    "complaint_dataset2018<-select(dataset2018, c(Complaint.Type))"
   ]
  },
  {
   "cell_type": "markdown",
   "metadata": {},
   "source": [
    "#### Unique - Extract Unique Elements from Columns"
   ]
  },
  {
   "cell_type": "code",
   "execution_count": 15,
   "metadata": {},
   "outputs": [
    {
     "data": {
      "text/html": [
       "<table>\n",
       "<thead><tr><th></th><th scope=col>Complaint.Type</th></tr></thead>\n",
       "<tbody>\n",
       "\t<tr><th scope=row>1</th><td>Rodent                             </td></tr>\n",
       "\t<tr><th scope=row>12</th><td>Unsanitary Pigeon Condition        </td></tr>\n",
       "\t<tr><th scope=row>17</th><td>Food Poisoning                     </td></tr>\n",
       "\t<tr><th scope=row>31</th><td>Unsanitary Animal Pvt Property     </td></tr>\n",
       "\t<tr><th scope=row>38</th><td>HEAT/HOT WATER                     </td></tr>\n",
       "\t<tr><th scope=row>39</th><td>Blocked Driveway                   </td></tr>\n",
       "\t<tr><th scope=row>40</th><td>PLUMBING                           </td></tr>\n",
       "\t<tr><th scope=row>43</th><td>Noise - Residential                </td></tr>\n",
       "\t<tr><th scope=row>47</th><td>Noise - Commercial                 </td></tr>\n",
       "\t<tr><th scope=row>57</th><td>Animal Abuse                       </td></tr>\n",
       "\t<tr><th scope=row>66</th><td>Water System                       </td></tr>\n",
       "\t<tr><th scope=row>78</th><td>Non-Residential Heat               </td></tr>\n",
       "\t<tr><th scope=row>79</th><td>Derelict Vehicles                  </td></tr>\n",
       "\t<tr><th scope=row>81</th><td>Noise - Street/Sidewalk            </td></tr>\n",
       "\t<tr><th scope=row>86</th><td>Illegal Parking                    </td></tr>\n",
       "\t<tr><th scope=row>104</th><td>Elevator                           </td></tr>\n",
       "\t<tr><th scope=row>109</th><td>Noise - Vehicle                    </td></tr>\n",
       "\t<tr><th scope=row>128</th><td>DOOR/WINDOW                        </td></tr>\n",
       "\t<tr><th scope=row>139</th><td>Traffic Signal Condition           </td></tr>\n",
       "\t<tr><th scope=row>142</th><td>Street Condition                   </td></tr>\n",
       "\t<tr><th scope=row>147</th><td>FLOORING/STAIRS                    </td></tr>\n",
       "\t<tr><th scope=row>149</th><td>PAINT/PLASTER                      </td></tr>\n",
       "\t<tr><th scope=row>150</th><td>UNSANITARY CONDITION               </td></tr>\n",
       "\t<tr><th scope=row>151</th><td>WATER LEAK                         </td></tr>\n",
       "\t<tr><th scope=row>155</th><td>Street Sign - Missing              </td></tr>\n",
       "\t<tr><th scope=row>170</th><td>ELECTRIC                           </td></tr>\n",
       "\t<tr><th scope=row>174</th><td>Maintenance or Facility            </td></tr>\n",
       "\t<tr><th scope=row>191</th><td>ELEVATOR                           </td></tr>\n",
       "\t<tr><th scope=row>236</th><td>Request Large Bulky Item Collection</td></tr>\n",
       "\t<tr><th scope=row>254</th><td>Missed Collection (All Materials)  </td></tr>\n",
       "\t<tr><th scope=row>⋮</th><td>⋮</td></tr>\n",
       "\t<tr><th scope=row>1092279</th><td>Advocate - RPIE              </td></tr>\n",
       "\t<tr><th scope=row>1092475</th><td>Advocate-Business Tax        </td></tr>\n",
       "\t<tr><th scope=row>1215401</th><td>Safety                       </td></tr>\n",
       "\t<tr><th scope=row>1215993</th><td>Mobile Food Vendor           </td></tr>\n",
       "\t<tr><th scope=row>1216590</th><td>Taxi Licensee Complaint      </td></tr>\n",
       "\t<tr><th scope=row>1217489</th><td>FHV Licensee Complaint       </td></tr>\n",
       "\t<tr><th scope=row>1226172</th><td>Abandoned Vehicle            </td></tr>\n",
       "\t<tr><th scope=row>1229141</th><td>Fire Alarm - Modification    </td></tr>\n",
       "\t<tr><th scope=row>1237058</th><td>Unsanitary Condition         </td></tr>\n",
       "\t<tr><th scope=row>1253687</th><td>Unlicensed Dog               </td></tr>\n",
       "\t<tr><th scope=row>1257606</th><td>Open Flame Permit            </td></tr>\n",
       "\t<tr><th scope=row>1260524</th><td>Fire Alarm - New System      </td></tr>\n",
       "\t<tr><th scope=row>1263797</th><td>Rangehood                    </td></tr>\n",
       "\t<tr><th scope=row>1275833</th><td>Advocate-SCRIE/DRIE          </td></tr>\n",
       "\t<tr><th scope=row>1276485</th><td>Public Assembly              </td></tr>\n",
       "\t<tr><th scope=row>1276919</th><td>Fire Alarm - Reinspection    </td></tr>\n",
       "\t<tr><th scope=row>1280582</th><td>Hazmat Storage/Use           </td></tr>\n",
       "\t<tr><th scope=row>1290329</th><td>Animal-Abuse                 </td></tr>\n",
       "\t<tr><th scope=row>1306779</th><td>General                      </td></tr>\n",
       "\t<tr><th scope=row>1326980</th><td>Dispatched Taxi Complaint    </td></tr>\n",
       "\t<tr><th scope=row>1412487</th><td>Public Assembly - Temporary  </td></tr>\n",
       "\t<tr><th scope=row>1413880</th><td>Sprinkler - Mechanical       </td></tr>\n",
       "\t<tr><th scope=row>1457637</th><td>Gas Station Discharge Lines  </td></tr>\n",
       "\t<tr><th scope=row>1544248</th><td>Advocate-Prop Class Incorrect</td></tr>\n",
       "\t<tr><th scope=row>1789731</th><td>Dept of Investigations       </td></tr>\n",
       "\t<tr><th scope=row>1844054</th><td>Building Condition           </td></tr>\n",
       "\t<tr><th scope=row>2186810</th><td>Special Operations           </td></tr>\n",
       "\t<tr><th scope=row>2238283</th><td>AGENCY                       </td></tr>\n",
       "\t<tr><th scope=row>2603453</th><td>Sweeping/Missed-Inadequate   </td></tr>\n",
       "\t<tr><th scope=row>2714792</th><td>Squeegee                     </td></tr>\n",
       "</tbody>\n",
       "</table>\n"
      ],
      "text/latex": [
       "\\begin{tabular}{r|l}\n",
       "  & Complaint.Type\\\\\n",
       "\\hline\n",
       "\t1 & Rodent                             \\\\\n",
       "\t12 & Unsanitary Pigeon Condition        \\\\\n",
       "\t17 & Food Poisoning                     \\\\\n",
       "\t31 & Unsanitary Animal Pvt Property     \\\\\n",
       "\t38 & HEAT/HOT WATER                     \\\\\n",
       "\t39 & Blocked Driveway                   \\\\\n",
       "\t40 & PLUMBING                           \\\\\n",
       "\t43 & Noise - Residential                \\\\\n",
       "\t47 & Noise - Commercial                 \\\\\n",
       "\t57 & Animal Abuse                       \\\\\n",
       "\t66 & Water System                       \\\\\n",
       "\t78 & Non-Residential Heat               \\\\\n",
       "\t79 & Derelict Vehicles                  \\\\\n",
       "\t81 & Noise - Street/Sidewalk            \\\\\n",
       "\t86 & Illegal Parking                    \\\\\n",
       "\t104 & Elevator                           \\\\\n",
       "\t109 & Noise - Vehicle                    \\\\\n",
       "\t128 & DOOR/WINDOW                        \\\\\n",
       "\t139 & Traffic Signal Condition           \\\\\n",
       "\t142 & Street Condition                   \\\\\n",
       "\t147 & FLOORING/STAIRS                    \\\\\n",
       "\t149 & PAINT/PLASTER                      \\\\\n",
       "\t150 & UNSANITARY CONDITION               \\\\\n",
       "\t151 & WATER LEAK                         \\\\\n",
       "\t155 & Street Sign - Missing              \\\\\n",
       "\t170 & ELECTRIC                           \\\\\n",
       "\t174 & Maintenance or Facility            \\\\\n",
       "\t191 & ELEVATOR                           \\\\\n",
       "\t236 & Request Large Bulky Item Collection\\\\\n",
       "\t254 & Missed Collection (All Materials)  \\\\\n",
       "\t⋮ & ⋮\\\\\n",
       "\t1092279 & Advocate - RPIE              \\\\\n",
       "\t1092475 & Advocate-Business Tax        \\\\\n",
       "\t1215401 & Safety                       \\\\\n",
       "\t1215993 & Mobile Food Vendor           \\\\\n",
       "\t1216590 & Taxi Licensee Complaint      \\\\\n",
       "\t1217489 & FHV Licensee Complaint       \\\\\n",
       "\t1226172 & Abandoned Vehicle            \\\\\n",
       "\t1229141 & Fire Alarm - Modification    \\\\\n",
       "\t1237058 & Unsanitary Condition         \\\\\n",
       "\t1253687 & Unlicensed Dog               \\\\\n",
       "\t1257606 & Open Flame Permit            \\\\\n",
       "\t1260524 & Fire Alarm - New System      \\\\\n",
       "\t1263797 & Rangehood                    \\\\\n",
       "\t1275833 & Advocate-SCRIE/DRIE          \\\\\n",
       "\t1276485 & Public Assembly              \\\\\n",
       "\t1276919 & Fire Alarm - Reinspection    \\\\\n",
       "\t1280582 & Hazmat Storage/Use           \\\\\n",
       "\t1290329 & Animal-Abuse                 \\\\\n",
       "\t1306779 & General                      \\\\\n",
       "\t1326980 & Dispatched Taxi Complaint    \\\\\n",
       "\t1412487 & Public Assembly - Temporary  \\\\\n",
       "\t1413880 & Sprinkler - Mechanical       \\\\\n",
       "\t1457637 & Gas Station Discharge Lines  \\\\\n",
       "\t1544248 & Advocate-Prop Class Incorrect\\\\\n",
       "\t1789731 & Dept of Investigations       \\\\\n",
       "\t1844054 & Building Condition           \\\\\n",
       "\t2186810 & Special Operations           \\\\\n",
       "\t2238283 & AGENCY                       \\\\\n",
       "\t2603453 & Sweeping/Missed-Inadequate   \\\\\n",
       "\t2714792 & Squeegee                     \\\\\n",
       "\\end{tabular}\n"
      ],
      "text/markdown": [
       "\n",
       "| <!--/--> | Complaint.Type |\n",
       "|---|---|\n",
       "| 1 | Rodent                              |\n",
       "| 12 | Unsanitary Pigeon Condition         |\n",
       "| 17 | Food Poisoning                      |\n",
       "| 31 | Unsanitary Animal Pvt Property      |\n",
       "| 38 | HEAT/HOT WATER                      |\n",
       "| 39 | Blocked Driveway                    |\n",
       "| 40 | PLUMBING                            |\n",
       "| 43 | Noise - Residential                 |\n",
       "| 47 | Noise - Commercial                  |\n",
       "| 57 | Animal Abuse                        |\n",
       "| 66 | Water System                        |\n",
       "| 78 | Non-Residential Heat                |\n",
       "| 79 | Derelict Vehicles                   |\n",
       "| 81 | Noise - Street/Sidewalk             |\n",
       "| 86 | Illegal Parking                     |\n",
       "| 104 | Elevator                            |\n",
       "| 109 | Noise - Vehicle                     |\n",
       "| 128 | DOOR/WINDOW                         |\n",
       "| 139 | Traffic Signal Condition            |\n",
       "| 142 | Street Condition                    |\n",
       "| 147 | FLOORING/STAIRS                     |\n",
       "| 149 | PAINT/PLASTER                       |\n",
       "| 150 | UNSANITARY CONDITION                |\n",
       "| 151 | WATER LEAK                          |\n",
       "| 155 | Street Sign - Missing               |\n",
       "| 170 | ELECTRIC                            |\n",
       "| 174 | Maintenance or Facility             |\n",
       "| 191 | ELEVATOR                            |\n",
       "| 236 | Request Large Bulky Item Collection |\n",
       "| 254 | Missed Collection (All Materials)   |\n",
       "| ⋮ | ⋮ |\n",
       "| 1092279 | Advocate - RPIE               |\n",
       "| 1092475 | Advocate-Business Tax         |\n",
       "| 1215401 | Safety                        |\n",
       "| 1215993 | Mobile Food Vendor            |\n",
       "| 1216590 | Taxi Licensee Complaint       |\n",
       "| 1217489 | FHV Licensee Complaint        |\n",
       "| 1226172 | Abandoned Vehicle             |\n",
       "| 1229141 | Fire Alarm - Modification     |\n",
       "| 1237058 | Unsanitary Condition          |\n",
       "| 1253687 | Unlicensed Dog                |\n",
       "| 1257606 | Open Flame Permit             |\n",
       "| 1260524 | Fire Alarm - New System       |\n",
       "| 1263797 | Rangehood                     |\n",
       "| 1275833 | Advocate-SCRIE/DRIE           |\n",
       "| 1276485 | Public Assembly               |\n",
       "| 1276919 | Fire Alarm - Reinspection     |\n",
       "| 1280582 | Hazmat Storage/Use            |\n",
       "| 1290329 | Animal-Abuse                  |\n",
       "| 1306779 | General                       |\n",
       "| 1326980 | Dispatched Taxi Complaint     |\n",
       "| 1412487 | Public Assembly - Temporary   |\n",
       "| 1413880 | Sprinkler - Mechanical        |\n",
       "| 1457637 | Gas Station Discharge Lines   |\n",
       "| 1544248 | Advocate-Prop Class Incorrect |\n",
       "| 1789731 | Dept of Investigations        |\n",
       "| 1844054 | Building Condition            |\n",
       "| 2186810 | Special Operations            |\n",
       "| 2238283 | AGENCY                        |\n",
       "| 2603453 | Sweeping/Missed-Inadequate    |\n",
       "| 2714792 | Squeegee                      |\n",
       "\n"
      ],
      "text/plain": [
       "        Complaint.Type                     \n",
       "1       Rodent                             \n",
       "12      Unsanitary Pigeon Condition        \n",
       "17      Food Poisoning                     \n",
       "31      Unsanitary Animal Pvt Property     \n",
       "38      HEAT/HOT WATER                     \n",
       "39      Blocked Driveway                   \n",
       "40      PLUMBING                           \n",
       "43      Noise - Residential                \n",
       "47      Noise - Commercial                 \n",
       "57      Animal Abuse                       \n",
       "66      Water System                       \n",
       "78      Non-Residential Heat               \n",
       "79      Derelict Vehicles                  \n",
       "81      Noise - Street/Sidewalk            \n",
       "86      Illegal Parking                    \n",
       "104     Elevator                           \n",
       "109     Noise - Vehicle                    \n",
       "128     DOOR/WINDOW                        \n",
       "139     Traffic Signal Condition           \n",
       "142     Street Condition                   \n",
       "147     FLOORING/STAIRS                    \n",
       "149     PAINT/PLASTER                      \n",
       "150     UNSANITARY CONDITION               \n",
       "151     WATER LEAK                         \n",
       "155     Street Sign - Missing              \n",
       "170     ELECTRIC                           \n",
       "174     Maintenance or Facility            \n",
       "191     ELEVATOR                           \n",
       "236     Request Large Bulky Item Collection\n",
       "254     Missed Collection (All Materials)  \n",
       "⋮       ⋮                                  \n",
       "1092279 Advocate - RPIE                    \n",
       "1092475 Advocate-Business Tax              \n",
       "1215401 Safety                             \n",
       "1215993 Mobile Food Vendor                 \n",
       "1216590 Taxi Licensee Complaint            \n",
       "1217489 FHV Licensee Complaint             \n",
       "1226172 Abandoned Vehicle                  \n",
       "1229141 Fire Alarm - Modification          \n",
       "1237058 Unsanitary Condition               \n",
       "1253687 Unlicensed Dog                     \n",
       "1257606 Open Flame Permit                  \n",
       "1260524 Fire Alarm - New System            \n",
       "1263797 Rangehood                          \n",
       "1275833 Advocate-SCRIE/DRIE                \n",
       "1276485 Public Assembly                    \n",
       "1276919 Fire Alarm - Reinspection          \n",
       "1280582 Hazmat Storage/Use                 \n",
       "1290329 Animal-Abuse                       \n",
       "1306779 General                            \n",
       "1326980 Dispatched Taxi Complaint          \n",
       "1412487 Public Assembly - Temporary        \n",
       "1413880 Sprinkler - Mechanical             \n",
       "1457637 Gas Station Discharge Lines        \n",
       "1544248 Advocate-Prop Class Incorrect      \n",
       "1789731 Dept of Investigations             \n",
       "1844054 Building Condition                 \n",
       "2186810 Special Operations                 \n",
       "2238283 AGENCY                             \n",
       "2603453 Sweeping/Missed-Inadequate         \n",
       "2714792 Squeegee                           "
      ]
     },
     "metadata": {},
     "output_type": "display_data"
    }
   ],
   "source": [
    "unique(complaint_dataset2018, incomparables = FALSE)"
   ]
  },
  {
   "cell_type": "markdown",
   "metadata": {},
   "source": [
    "#### Table is for frequency"
   ]
  },
  {
   "cell_type": "code",
   "execution_count": 18,
   "metadata": {},
   "outputs": [],
   "source": [
    "w = table(dataset2018$Complaint.Type)"
   ]
  },
  {
   "cell_type": "code",
   "execution_count": 23,
   "metadata": {},
   "outputs": [
    {
     "data": {
      "text/html": [
       "'table'"
      ],
      "text/latex": [
       "'table'"
      ],
      "text/markdown": [
       "'table'"
      ],
      "text/plain": [
       "[1] \"table\""
      ]
     },
     "metadata": {},
     "output_type": "display_data"
    }
   ],
   "source": [
    "class(w)"
   ]
  },
  {
   "cell_type": "markdown",
   "metadata": {},
   "source": [
    "### Convert table into a data frame "
   ]
  },
  {
   "cell_type": "markdown",
   "metadata": {},
   "source": [
    "#### as.data.frame is for seeing clean table.\n"
   ]
  },
  {
   "cell_type": "code",
   "execution_count": 21,
   "metadata": {},
   "outputs": [],
   "source": [
    "t = as.data.frame(w)"
   ]
  },
  {
   "cell_type": "code",
   "execution_count": 24,
   "metadata": {},
   "outputs": [
    {
     "data": {
      "text/html": [
       "'data.frame'"
      ],
      "text/latex": [
       "'data.frame'"
      ],
      "text/markdown": [
       "'data.frame'"
      ],
      "text/plain": [
       "[1] \"data.frame\""
      ]
     },
     "metadata": {},
     "output_type": "display_data"
    }
   ],
   "source": [
    "class(t)"
   ]
  },
  {
   "cell_type": "code",
   "execution_count": 22,
   "metadata": {},
   "outputs": [
    {
     "data": {
      "text/html": [
       "<table>\n",
       "<thead><tr><th scope=col>Var1</th><th scope=col>Freq</th></tr></thead>\n",
       "<tbody>\n",
       "\t<tr><td>Abandoned Vehicle             </td><td>    42                        </td></tr>\n",
       "\t<tr><td>Adopt-A-Basket                </td><td>    41                        </td></tr>\n",
       "\t<tr><td>Advocate - Levy               </td><td>     1                        </td></tr>\n",
       "\t<tr><td>Advocate - Lien               </td><td>     8                        </td></tr>\n",
       "\t<tr><td>Advocate - Other              </td><td>   115                        </td></tr>\n",
       "\t<tr><td>Advocate - RPIE               </td><td>     2                        </td></tr>\n",
       "\t<tr><td>Advocate-Business Tax         </td><td>     2                        </td></tr>\n",
       "\t<tr><td>Advocate-Co-opCondo Abatement </td><td>    31                        </td></tr>\n",
       "\t<tr><td>Advocate-Commercial Exemptions</td><td>     5                        </td></tr>\n",
       "\t<tr><td>Advocate-Personal Exemptions  </td><td>   278                        </td></tr>\n",
       "\t<tr><td>Advocate-Prop Class Incorrect </td><td>     2                        </td></tr>\n",
       "\t<tr><td>Advocate-Prop Refunds/Credits </td><td>   275                        </td></tr>\n",
       "\t<tr><td>Advocate-Property Value       </td><td>    14                        </td></tr>\n",
       "\t<tr><td>Advocate-SCRIE/DRIE           </td><td>     2                        </td></tr>\n",
       "\t<tr><td>AGENCY                        </td><td>     1                        </td></tr>\n",
       "\t<tr><td>Air Quality                   </td><td>  7381                        </td></tr>\n",
       "\t<tr><td>Alzheimer's Care              </td><td>   200                        </td></tr>\n",
       "\t<tr><td>Animal Abuse                  </td><td>  8679                        </td></tr>\n",
       "\t<tr><td>Animal Facility - No Permit   </td><td>    57                        </td></tr>\n",
       "\t<tr><td>Animal in a Park              </td><td>  2289                        </td></tr>\n",
       "\t<tr><td>Animal-Abuse                  </td><td>     8                        </td></tr>\n",
       "\t<tr><td>APPLIANCE                     </td><td> 14691                        </td></tr>\n",
       "\t<tr><td>Asbestos                      </td><td>  2197                        </td></tr>\n",
       "\t<tr><td>Beach/Pool/Sauna Complaint    </td><td>   207                        </td></tr>\n",
       "\t<tr><td>Benefit Card Replacement      </td><td> 12347                        </td></tr>\n",
       "\t<tr><td>Bereavement Support Group     </td><td>    36                        </td></tr>\n",
       "\t<tr><td>BEST/Site Safety              </td><td>  2047                        </td></tr>\n",
       "\t<tr><td>Bike Rack Condition           </td><td>   122                        </td></tr>\n",
       "\t<tr><td>Bike/Roller/Skate Chronic     </td><td>   451                        </td></tr>\n",
       "\t<tr><td>Blocked Driveway              </td><td>136759                        </td></tr>\n",
       "\t<tr><td>⋮</td><td>⋮</td></tr>\n",
       "\t<tr><td>Sweeping/Missed-Inadequate       </td><td>   30                            </td></tr>\n",
       "\t<tr><td>Tanning                          </td><td>    8                            </td></tr>\n",
       "\t<tr><td>Tattooing                        </td><td>  105                            </td></tr>\n",
       "\t<tr><td>Taxi Complaint                   </td><td>14879                            </td></tr>\n",
       "\t<tr><td>Taxi Compliment                  </td><td>  377                            </td></tr>\n",
       "\t<tr><td>Taxi Licensee Complaint          </td><td>   10                            </td></tr>\n",
       "\t<tr><td>Taxi Report                      </td><td> 2051                            </td></tr>\n",
       "\t<tr><td>Taxpayer Advocate Inquiry        </td><td>  134                            </td></tr>\n",
       "\t<tr><td>Traffic                          </td><td> 4734                            </td></tr>\n",
       "\t<tr><td>Traffic Signal Condition         </td><td>42588                            </td></tr>\n",
       "\t<tr><td>Trans Fat                        </td><td>    2                            </td></tr>\n",
       "\t<tr><td>Transportation Provider Complaint</td><td>   25                            </td></tr>\n",
       "\t<tr><td>Tunnel Condition                 </td><td>   14                            </td></tr>\n",
       "\t<tr><td>Unleashed Dog                    </td><td>  743                            </td></tr>\n",
       "\t<tr><td>Unlicensed Dog                   </td><td>   36                            </td></tr>\n",
       "\t<tr><td>Unsanitary Animal Facility       </td><td>   67                            </td></tr>\n",
       "\t<tr><td>Unsanitary Animal Pvt Property   </td><td> 1839                            </td></tr>\n",
       "\t<tr><td>Unsanitary Condition             </td><td>  141                            </td></tr>\n",
       "\t<tr><td>UNSANITARY CONDITION             </td><td>86277                            </td></tr>\n",
       "\t<tr><td>Unsanitary Pigeon Condition      </td><td>  642                            </td></tr>\n",
       "\t<tr><td>Urinating in Public              </td><td>  507                            </td></tr>\n",
       "\t<tr><td>Vacant Lot                       </td><td> 2179                            </td></tr>\n",
       "\t<tr><td>Vending                          </td><td> 4702                            </td></tr>\n",
       "\t<tr><td>Violation of Park Rules          </td><td> 2385                            </td></tr>\n",
       "\t<tr><td>Water Conservation               </td><td> 5507                            </td></tr>\n",
       "\t<tr><td>WATER LEAK                       </td><td>39149                            </td></tr>\n",
       "\t<tr><td>Water Quality                    </td><td> 2005                            </td></tr>\n",
       "\t<tr><td>Water System                     </td><td>76194                            </td></tr>\n",
       "\t<tr><td>Window Guard                     </td><td>   29                            </td></tr>\n",
       "\t<tr><td>X-Ray Machine/Equipment          </td><td>    6                            </td></tr>\n",
       "</tbody>\n",
       "</table>\n"
      ],
      "text/latex": [
       "\\begin{tabular}{r|ll}\n",
       " Var1 & Freq\\\\\n",
       "\\hline\n",
       "\t Abandoned Vehicle              &     42                        \\\\\n",
       "\t Adopt-A-Basket                 &     41                        \\\\\n",
       "\t Advocate - Levy                &      1                        \\\\\n",
       "\t Advocate - Lien                &      8                        \\\\\n",
       "\t Advocate - Other               &    115                        \\\\\n",
       "\t Advocate - RPIE                &      2                        \\\\\n",
       "\t Advocate-Business Tax          &      2                        \\\\\n",
       "\t Advocate-Co-opCondo Abatement  &     31                        \\\\\n",
       "\t Advocate-Commercial Exemptions &      5                        \\\\\n",
       "\t Advocate-Personal Exemptions   &    278                        \\\\\n",
       "\t Advocate-Prop Class Incorrect  &      2                        \\\\\n",
       "\t Advocate-Prop Refunds/Credits  &    275                        \\\\\n",
       "\t Advocate-Property Value        &     14                        \\\\\n",
       "\t Advocate-SCRIE/DRIE            &      2                        \\\\\n",
       "\t AGENCY                         &      1                        \\\\\n",
       "\t Air Quality                    &   7381                        \\\\\n",
       "\t Alzheimer's Care               &    200                        \\\\\n",
       "\t Animal Abuse                   &   8679                        \\\\\n",
       "\t Animal Facility - No Permit    &     57                        \\\\\n",
       "\t Animal in a Park               &   2289                        \\\\\n",
       "\t Animal-Abuse                   &      8                        \\\\\n",
       "\t APPLIANCE                      &  14691                        \\\\\n",
       "\t Asbestos                       &   2197                        \\\\\n",
       "\t Beach/Pool/Sauna Complaint     &    207                        \\\\\n",
       "\t Benefit Card Replacement       &  12347                        \\\\\n",
       "\t Bereavement Support Group      &     36                        \\\\\n",
       "\t BEST/Site Safety               &   2047                        \\\\\n",
       "\t Bike Rack Condition            &    122                        \\\\\n",
       "\t Bike/Roller/Skate Chronic      &    451                        \\\\\n",
       "\t Blocked Driveway               & 136759                        \\\\\n",
       "\t ⋮ & ⋮\\\\\n",
       "\t Sweeping/Missed-Inadequate        &    30                            \\\\\n",
       "\t Tanning                           &     8                            \\\\\n",
       "\t Tattooing                         &   105                            \\\\\n",
       "\t Taxi Complaint                    & 14879                            \\\\\n",
       "\t Taxi Compliment                   &   377                            \\\\\n",
       "\t Taxi Licensee Complaint           &    10                            \\\\\n",
       "\t Taxi Report                       &  2051                            \\\\\n",
       "\t Taxpayer Advocate Inquiry         &   134                            \\\\\n",
       "\t Traffic                           &  4734                            \\\\\n",
       "\t Traffic Signal Condition          & 42588                            \\\\\n",
       "\t Trans Fat                         &     2                            \\\\\n",
       "\t Transportation Provider Complaint &    25                            \\\\\n",
       "\t Tunnel Condition                  &    14                            \\\\\n",
       "\t Unleashed Dog                     &   743                            \\\\\n",
       "\t Unlicensed Dog                    &    36                            \\\\\n",
       "\t Unsanitary Animal Facility        &    67                            \\\\\n",
       "\t Unsanitary Animal Pvt Property    &  1839                            \\\\\n",
       "\t Unsanitary Condition              &   141                            \\\\\n",
       "\t UNSANITARY CONDITION              & 86277                            \\\\\n",
       "\t Unsanitary Pigeon Condition       &   642                            \\\\\n",
       "\t Urinating in Public               &   507                            \\\\\n",
       "\t Vacant Lot                        &  2179                            \\\\\n",
       "\t Vending                           &  4702                            \\\\\n",
       "\t Violation of Park Rules           &  2385                            \\\\\n",
       "\t Water Conservation                &  5507                            \\\\\n",
       "\t WATER LEAK                        & 39149                            \\\\\n",
       "\t Water Quality                     &  2005                            \\\\\n",
       "\t Water System                      & 76194                            \\\\\n",
       "\t Window Guard                      &    29                            \\\\\n",
       "\t X-Ray Machine/Equipment           &     6                            \\\\\n",
       "\\end{tabular}\n"
      ],
      "text/markdown": [
       "\n",
       "| Var1 | Freq |\n",
       "|---|---|\n",
       "| Abandoned Vehicle              |     42                         |\n",
       "| Adopt-A-Basket                 |     41                         |\n",
       "| Advocate - Levy                |      1                         |\n",
       "| Advocate - Lien                |      8                         |\n",
       "| Advocate - Other               |    115                         |\n",
       "| Advocate - RPIE                |      2                         |\n",
       "| Advocate-Business Tax          |      2                         |\n",
       "| Advocate-Co-opCondo Abatement  |     31                         |\n",
       "| Advocate-Commercial Exemptions |      5                         |\n",
       "| Advocate-Personal Exemptions   |    278                         |\n",
       "| Advocate-Prop Class Incorrect  |      2                         |\n",
       "| Advocate-Prop Refunds/Credits  |    275                         |\n",
       "| Advocate-Property Value        |     14                         |\n",
       "| Advocate-SCRIE/DRIE            |      2                         |\n",
       "| AGENCY                         |      1                         |\n",
       "| Air Quality                    |   7381                         |\n",
       "| Alzheimer's Care               |    200                         |\n",
       "| Animal Abuse                   |   8679                         |\n",
       "| Animal Facility - No Permit    |     57                         |\n",
       "| Animal in a Park               |   2289                         |\n",
       "| Animal-Abuse                   |      8                         |\n",
       "| APPLIANCE                      |  14691                         |\n",
       "| Asbestos                       |   2197                         |\n",
       "| Beach/Pool/Sauna Complaint     |    207                         |\n",
       "| Benefit Card Replacement       |  12347                         |\n",
       "| Bereavement Support Group      |     36                         |\n",
       "| BEST/Site Safety               |   2047                         |\n",
       "| Bike Rack Condition            |    122                         |\n",
       "| Bike/Roller/Skate Chronic      |    451                         |\n",
       "| Blocked Driveway               | 136759                         |\n",
       "| ⋮ | ⋮ |\n",
       "| Sweeping/Missed-Inadequate        |    30                             |\n",
       "| Tanning                           |     8                             |\n",
       "| Tattooing                         |   105                             |\n",
       "| Taxi Complaint                    | 14879                             |\n",
       "| Taxi Compliment                   |   377                             |\n",
       "| Taxi Licensee Complaint           |    10                             |\n",
       "| Taxi Report                       |  2051                             |\n",
       "| Taxpayer Advocate Inquiry         |   134                             |\n",
       "| Traffic                           |  4734                             |\n",
       "| Traffic Signal Condition          | 42588                             |\n",
       "| Trans Fat                         |     2                             |\n",
       "| Transportation Provider Complaint |    25                             |\n",
       "| Tunnel Condition                  |    14                             |\n",
       "| Unleashed Dog                     |   743                             |\n",
       "| Unlicensed Dog                    |    36                             |\n",
       "| Unsanitary Animal Facility        |    67                             |\n",
       "| Unsanitary Animal Pvt Property    |  1839                             |\n",
       "| Unsanitary Condition              |   141                             |\n",
       "| UNSANITARY CONDITION              | 86277                             |\n",
       "| Unsanitary Pigeon Condition       |   642                             |\n",
       "| Urinating in Public               |   507                             |\n",
       "| Vacant Lot                        |  2179                             |\n",
       "| Vending                           |  4702                             |\n",
       "| Violation of Park Rules           |  2385                             |\n",
       "| Water Conservation                |  5507                             |\n",
       "| WATER LEAK                        | 39149                             |\n",
       "| Water Quality                     |  2005                             |\n",
       "| Water System                      | 76194                             |\n",
       "| Window Guard                      |    29                             |\n",
       "| X-Ray Machine/Equipment           |     6                             |\n",
       "\n"
      ],
      "text/plain": [
       "    Var1                              Freq  \n",
       "1   Abandoned Vehicle                     42\n",
       "2   Adopt-A-Basket                        41\n",
       "3   Advocate - Levy                        1\n",
       "4   Advocate - Lien                        8\n",
       "5   Advocate - Other                     115\n",
       "6   Advocate - RPIE                        2\n",
       "7   Advocate-Business Tax                  2\n",
       "8   Advocate-Co-opCondo Abatement         31\n",
       "9   Advocate-Commercial Exemptions         5\n",
       "10  Advocate-Personal Exemptions         278\n",
       "11  Advocate-Prop Class Incorrect          2\n",
       "12  Advocate-Prop Refunds/Credits        275\n",
       "13  Advocate-Property Value               14\n",
       "14  Advocate-SCRIE/DRIE                    2\n",
       "15  AGENCY                                 1\n",
       "16  Air Quality                         7381\n",
       "17  Alzheimer's Care                     200\n",
       "18  Animal Abuse                        8679\n",
       "19  Animal Facility - No Permit           57\n",
       "20  Animal in a Park                    2289\n",
       "21  Animal-Abuse                           8\n",
       "22  APPLIANCE                          14691\n",
       "23  Asbestos                            2197\n",
       "24  Beach/Pool/Sauna Complaint           207\n",
       "25  Benefit Card Replacement           12347\n",
       "26  Bereavement Support Group             36\n",
       "27  BEST/Site Safety                    2047\n",
       "28  Bike Rack Condition                  122\n",
       "29  Bike/Roller/Skate Chronic            451\n",
       "30  Blocked Driveway                  136759\n",
       "⋮   ⋮                                 ⋮     \n",
       "222 Sweeping/Missed-Inadequate           30 \n",
       "223 Tanning                               8 \n",
       "224 Tattooing                           105 \n",
       "225 Taxi Complaint                    14879 \n",
       "226 Taxi Compliment                     377 \n",
       "227 Taxi Licensee Complaint              10 \n",
       "228 Taxi Report                        2051 \n",
       "229 Taxpayer Advocate Inquiry           134 \n",
       "230 Traffic                            4734 \n",
       "231 Traffic Signal Condition          42588 \n",
       "232 Trans Fat                             2 \n",
       "233 Transportation Provider Complaint    25 \n",
       "234 Tunnel Condition                     14 \n",
       "235 Unleashed Dog                       743 \n",
       "236 Unlicensed Dog                       36 \n",
       "237 Unsanitary Animal Facility           67 \n",
       "238 Unsanitary Animal Pvt Property     1839 \n",
       "239 Unsanitary Condition                141 \n",
       "240 UNSANITARY CONDITION              86277 \n",
       "241 Unsanitary Pigeon Condition         642 \n",
       "242 Urinating in Public                 507 \n",
       "243 Vacant Lot                         2179 \n",
       "244 Vending                            4702 \n",
       "245 Violation of Park Rules            2385 \n",
       "246 Water Conservation                 5507 \n",
       "247 WATER LEAK                        39149 \n",
       "248 Water Quality                      2005 \n",
       "249 Water System                      76194 \n",
       "250 Window Guard                         29 \n",
       "251 X-Ray Machine/Equipment               6 "
      ]
     },
     "metadata": {},
     "output_type": "display_data"
    }
   ],
   "source": [
    "t "
   ]
  },
  {
   "cell_type": "code",
   "execution_count": null,
   "metadata": {},
   "outputs": [],
   "source": []
  }
 ],
 "metadata": {
  "kernelspec": {
   "display_name": "R",
   "language": "R",
   "name": "ir"
  },
  "language_info": {
   "codemirror_mode": "r",
   "file_extension": ".r",
   "mimetype": "text/x-r-source",
   "name": "R",
   "pygments_lexer": "r",
   "version": "3.5.2"
  }
 },
 "nbformat": 4,
 "nbformat_minor": 2
}
